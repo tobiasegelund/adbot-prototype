{
 "cells": [
  {
   "cell_type": "code",
   "execution_count": 18,
   "id": "3b5a7614",
   "metadata": {},
   "outputs": [],
   "source": [
    "import re\n",
    "import asyncio\n",
    "import yaml\n",
    "import time\n",
    "\n",
    "import itertools\n",
    "from typing import List, Set, Dict\n",
    "\n",
    "\n",
    "import aiohttp\n",
    "from aiohttp import ClientSession\n",
    "\n",
    "from time import sleep\n",
    "import selenium\n",
    "import requests\n",
    "from bs4 import BeautifulSoup\n",
    "\n",
    "from selenium import webdriver\n",
    "from selenium.webdriver import Firefox\n",
    "from selenium.webdriver.support.ui import Select, WebDriverWait\n",
    "from selenium.webdriver.support import expected_conditions as EC\n",
    "from selenium.webdriver.common.by import By\n",
    "from selenium.webdriver.common.keys import Keys\n",
    "\n",
    "from adbot.conf.settings import Settings\n",
    "from adbot.misc.website import Website, URL\n",
    "from adbot.misc.files import Video\n",
    "from adbot.core.download import download_video\n",
    "\n",
    "from adbot import HEADERS"
   ]
  },
  {
   "cell_type": "code",
   "execution_count": 2,
   "id": "3dd0b526",
   "metadata": {},
   "outputs": [],
   "source": [
    "site = URL(\"www.tv2.dk\")\n",
    "site2 = URL(\"tv2.dk\")\n",
    "site3 = URL(\"www.tv2.dk\")"
   ]
  },
  {
   "cell_type": "code",
   "execution_count": 3,
   "id": "f2f43004",
   "metadata": {},
   "outputs": [],
   "source": [
    "settings = Settings.load(\"tv2\")"
   ]
  },
  {
   "cell_type": "code",
   "execution_count": 4,
   "id": "e67c4586",
   "metadata": {},
   "outputs": [
    {
     "data": {
      "text/plain": [
       "['iframe', 'video', 'lima-video']"
      ]
     },
     "execution_count": 4,
     "metadata": {},
     "output_type": "execute_result"
    }
   ],
   "source": [
    "settings.tags"
   ]
  },
  {
   "cell_type": "code",
   "execution_count": 4,
   "id": "cd6ac5c2",
   "metadata": {},
   "outputs": [],
   "source": [
    "l = [site, site2, site3]"
   ]
  },
  {
   "cell_type": "code",
   "execution_count": 5,
   "id": "037c507d",
   "metadata": {},
   "outputs": [
    {
     "data": {
      "text/plain": [
       "{URL<https://tv2.dk>, URL<https://www.tv2.dk>}"
      ]
     },
     "execution_count": 5,
     "metadata": {},
     "output_type": "execute_result"
    }
   ],
   "source": [
    "set(l)"
   ]
  },
  {
   "cell_type": "code",
   "execution_count": 6,
   "id": "9df12d89",
   "metadata": {},
   "outputs": [],
   "source": [
    "site + \"/new\""
   ]
  },
  {
   "cell_type": "code",
   "execution_count": 7,
   "id": "cad68213",
   "metadata": {},
   "outputs": [
    {
     "data": {
      "text/plain": [
       "URL<https://www.tv2.dk/new>"
      ]
     },
     "execution_count": 7,
     "metadata": {},
     "output_type": "execute_result"
    }
   ],
   "source": [
    "site"
   ]
  },
  {
   "cell_type": "code",
   "execution_count": 8,
   "id": "4beaf777",
   "metadata": {},
   "outputs": [],
   "source": [
    "resp = requests.get(site)"
   ]
  },
  {
   "cell_type": "code",
   "execution_count": 9,
   "id": "4069a249",
   "metadata": {},
   "outputs": [],
   "source": [
    "website = Website(site)"
   ]
  },
  {
   "cell_type": "markdown",
   "id": "bd71b800",
   "metadata": {},
   "source": [
    "## YAML"
   ]
  },
  {
   "cell_type": "code",
   "execution_count": 10,
   "id": "8226c0bc",
   "metadata": {},
   "outputs": [
    {
     "name": "stdout",
     "output_type": "stream",
     "text": [
      "{'version': 0.1, 'environment': 'development', 'level': 2, 'files': [{'image': ['.png', '.jpg', '.jpeg', '.svg']}, {'video': ['.mp3', '.mp4']}], 'tags': ['iframe']}\n"
     ]
    }
   ],
   "source": [
    "with open(\"adbot/settings/default.yml\", mode=\"r\", encoding=\"utf-8\") as file:\n",
    "    print(yaml.safe_load(file))"
   ]
  },
  {
   "cell_type": "code",
   "execution_count": 10,
   "id": "e9c0745b",
   "metadata": {},
   "outputs": [],
   "source": [
    "file = yaml.SafeLoader(\"adbot/settings/default.yml\")"
   ]
  },
  {
   "cell_type": "code",
   "execution_count": 11,
   "id": "e8e88a28",
   "metadata": {},
   "outputs": [
    {
     "name": "stdout",
     "output_type": "stream",
     "text": [
      "<yaml.loader.SafeLoader object at 0x10d011850>\n"
     ]
    }
   ],
   "source": [
    "print(file)"
   ]
  },
  {
   "cell_type": "code",
   "execution_count": null,
   "id": "761a1929",
   "metadata": {},
   "outputs": [],
   "source": []
  },
  {
   "cell_type": "markdown",
   "id": "a237db6c",
   "metadata": {},
   "source": [
    "## Requests"
   ]
  },
  {
   "cell_type": "code",
   "execution_count": 5,
   "id": "96281787",
   "metadata": {},
   "outputs": [],
   "source": [
    "import nest_asyncio\n",
    "nest_asyncio.apply()"
   ]
  },
  {
   "cell_type": "code",
   "execution_count": 6,
   "id": "dc49cc37",
   "metadata": {},
   "outputs": [],
   "source": [
    "url = \"https://tv2.dk/\""
   ]
  },
  {
   "cell_type": "code",
   "execution_count": 7,
   "id": "6d7df0d1",
   "metadata": {},
   "outputs": [],
   "source": [
    "response = requests.get(url)"
   ]
  },
  {
   "cell_type": "code",
   "execution_count": 8,
   "id": "b11c1e77",
   "metadata": {},
   "outputs": [],
   "source": [
    "html = BeautifulSoup(response.text)"
   ]
  },
  {
   "cell_type": "code",
   "execution_count": 9,
   "id": "6071a91b",
   "metadata": {},
   "outputs": [],
   "source": [
    "def validate_link(link: str, domain: str) -> str:\n",
    "    length = len(\"https://\")\n",
    "    if bool(re.search(domain, link)):\n",
    "        if link[:length] == \"https\":\n",
    "            return link\n",
    "        else:\n",
    "            return \"https://\" + domain + link\n",
    "    return None"
   ]
  },
  {
   "cell_type": "code",
   "execution_count": 11,
   "id": "c16b1509",
   "metadata": {},
   "outputs": [],
   "source": [
    "link = 'https://tv2.dk/navigation'\n",
    "#link = \"main\""
   ]
  },
  {
   "cell_type": "code",
   "execution_count": 12,
   "id": "ee9961a1",
   "metadata": {},
   "outputs": [],
   "source": [
    "match = bool(re.search(\"tv2.dk\", link))"
   ]
  },
  {
   "cell_type": "code",
   "execution_count": 13,
   "id": "87e01162",
   "metadata": {},
   "outputs": [
    {
     "data": {
      "text/plain": [
       "True"
      ]
     },
     "execution_count": 13,
     "metadata": {},
     "output_type": "execute_result"
    }
   ],
   "source": [
    "match"
   ]
  },
  {
   "cell_type": "code",
   "execution_count": 14,
   "id": "a31f815f",
   "metadata": {
    "scrolled": true
   },
   "outputs": [],
   "source": [
    "urls = set(i.get(\"href\") for i in html.find_all(\"a\") if validate_link(i.get(\"href\"), \"tv2.dk\") is not None)"
   ]
  },
  {
   "cell_type": "code",
   "execution_count": 16,
   "id": "cc9a4343",
   "metadata": {},
   "outputs": [
    {
     "data": {
      "text/plain": [
       "102"
      ]
     },
     "execution_count": 16,
     "metadata": {},
     "output_type": "execute_result"
    }
   ],
   "source": [
    "urls = list(urls)\n",
    "len(urls)"
   ]
  },
  {
   "cell_type": "code",
   "execution_count": 17,
   "id": "94425dbc",
   "metadata": {},
   "outputs": [
    {
     "name": "stdout",
     "output_type": "stream",
     "text": [
      "[Info] Fetch https://tv.tv2.dk/2017-08-12-tv-2-apps-tv-2-play-nyheder-sport-vejr-og-tv\n",
      "[Info] Fetch https://tv2.dk\n",
      "[Info] Fetch https://mit.tv2.dk\n",
      "[Info] Fetch https://nyheder.tv2.dk/udland/2022-05-28-danske-missiler-kan-beskytte-vigtig-kystby-vurderer-militaeranalytiker\n",
      "[Info] Fetch https://nyheder.tv2.dk/udland/2022-05-28-vigtig-allieret-vender-putin-ryggen-klart-budskab-til-moskva-siger-forsker\n",
      "[Info] Fetch https://nyheder.tv2.dk/udland/2022-05-28-mirror-boris-johnson-vil-genindfore-gammelt-malesystem\n",
      "[Info] Fetch https://sport.tv2.dk/haandbold/2022-05-28-esbjerg-udskyder-dm-afgoerelse-med-overlegen-sejr\n",
      "[Info] Fetch https://sport.tv2.dk/haandbold/2022-05-28-profil-i-taarer-efter-sidste-hjemmekamp\n",
      "[Info] Fetch https://nyheder.tv2.dk/udland/2022-05-29-joe-biden-mindes-ofrene-for-skoleskydningen-i-uvalde\n",
      "[Info] Fetch https://sport.tv2.dk/formel-1/2022-05-28-magnussen-skuffer-i-kvalifikationen\n",
      "[Info] Fetch https://sport.tv2.dk/\n",
      "[Info] Fetch https://sport.tv2.dk/formel-1/2022-05-28-magnussen-og-teamet-uenige-i-kvalen\n",
      "[Info] Fetch https://nyheder.tv2.dk/politik/2022-05-29-ny-maaling-tegner-klart-billede-faa-dage-foer-folkeafstemningen\n",
      "[Info] Fetch https://nyheder.tv2.dk/2022-05-28-kort-over-invasionen-foelg-udviklingen-her\n",
      "[Info] Fetch https://nyheder.tv2.dk/udland/2022-05-29-son-af-britisk-politiker-slas-i-ukraine\n",
      "[Info] Fetch https://sport.tv2.dk/ishockey/2022-05-29-sikrer-vm-bronze-efter-vildt-comeback\n",
      "[Info] Fetch https://nyheder.tv2.dk/krimi/2022-05-29-kajakroere-finder-livlos-mand-i-vandet-ud-for-kastrup\n",
      "[Info] Fetch https://nyheder.tv2.dk/politik/2022-05-11-alt-du-skal-vide-om-forsvarsforbeholdet\n",
      "[Info] Fetch https://nyheder.tv2.dk/udland/2022-05-29-fly-forsvundet-fra-radaren-22-personer-savnes\n",
      "[Info] Fetch https://omtv2.tv2.dk/kontakt/eksterne-partnere/offentlig-fremvisning\n",
      "[Info] Fetch https://vejr.tv2.dk/2022-05-29-se-op-mulighed-for-skypumper-paa-himlen\n",
      "[Info] Fetch https://sport.tv2.dk/fodbold/2022-05-29-dansker-vinder-milliardkamp\n",
      "[Info] Fetch https://sport.tv2.dk/fodbold/2022-05-28-liverpool-fans-med-falske-billetter-var-skyld-i-kaos-siger-uefa\n",
      "[Info] Fetch https://nyheder.tv2.dk/udland/2022-05-28-forskere-rusland-stopper-naeppe-med-fremskridt-i-donbas\n",
      "[Info] Fetch https://search.tv2.dk/\n",
      "[Info] Fetch https://nyheder.tv2.dk/1234\n",
      "[Info] Fetch https://sport.tv2.dk/haandbold/2022-05-28-haugsteds-em-i-fare-ude-i-op-til-et-halvt-aar\n",
      "[Info] Fetch https://sport.tv2.dk/formel-1/2022-05-29-magnussen-forstaar-intet-af-afgoerende-beslutning\n",
      "[Info] Fetch https://sport.tv2.dk/tennis/2022-05-29-stjerne-uskadt-efter-kaos-troede-at-der-blev-skudt\n",
      "[Info] Fetch https://nyheder.tv2.dk/politik/2022-05-28-ja-partierne-kan-se-danmark-deltage-i-flere-eu-missioner-men-har-forsvaret\n",
      "[Info] Fetch https://nyheder.tv2.dk/\n",
      "[Info] Fetch https://nyheder.tv2.dk/lokalt/2022-05-29-nu-vil-ibi-pippi-have-penge-i-kassen-efter-haervaerk-paa-jorn-maleri\n",
      "[Info] Fetch https://livsstil.tv2.dk/2022-05-24-en-rekvisit-var-saa-vellykket-at-folkene-bag-tv-serie-selv-blev-skraemt\n",
      "[Info] Fetch https://nyheder.tv2.dk/udland/2022-05-28-putin-vi-er-klar-til-at-drofte-korneksport-fra-ukraine\n",
      "[Info] Fetch https://nyheder.tv2.dk/politik/2022-05-21-hvad-mener-partierne-om-forsvarsforbeholdet-faa-overblikket-her\n",
      "[Info] Fetch https://nyheder.tv2.dk/lokalt/2022-05-29-sjaelden-fugleunge-styrtede-til-jorden-da-trae-blev-faeldet-vi-er-saa-aergerlige\n",
      "[Info] Fetch https://nyheder.tv2.dk/nyhedsbreve\n",
      "[Info] Fetch https://play.tv2.dk/programmer/magasiner/serier/kernen/da-aborten-blev-bombet-vaek-269633/\n",
      "[Info] Fetch https://sr.tv2.dk/\n",
      "[Info] Fetch https://sport.tv2.dk/fodbold/2022-05-28-real-madrid-vinder-champions-league\n",
      "[Info] Fetch https://nyheder.tv2.dk/udland/2022-05-29-sag-mod-drabsdomt-australsk-mor-skal-undersoges-efter-dansk-pres\n",
      "[Info] Fetch https://sport.tv2.dk/live/2022-05-29-vm-finale-finland-canada\n",
      "[Info] Fetch https://omtv2.tv2.dk/\n",
      "[Info] Fetch https://sport.tv2.dk/tennis/2022-05-28-rune-udraderer-modstander-ved-french-open\n",
      "[Info] Fetch https://nyheder.tv2.dk/lokalt/2022-05-28-lov-forhindrer-kvinde-i-at-donere-modermaelk-nu-kraever-politiker-svar-fra\n",
      "[Info] Fetch https://nyheder.tv2.dk/live/2022-05-29-partilederdebat-om-forsvarsforbeholdet\n",
      "[Info] Fetch https://vejr.tv2.dk/\n",
      "[Info] Fetch https://sport.tv2.dk/haandbold/2022-05-28-viborg-tvinger-bronzeduel-ud-i-kamp-tre\n",
      "[Info] Fetch https://sport.tv2.dk/fodbold/2022-05-29-soendag-venter-milliardkampen-0\n",
      "[Info] Fetch https://sport.tv2.dk/haandbold/2022-05-28-overnaturlig-profil-blev-motiveret-af-hoejlunds-vilde-kamp\n",
      "[Info] Fetch https://nyheder.tv2.dk/udland/2022-05-29-russerne-naermer-sig-militaermilepael-i-ukraine\n",
      "[Info] Fetch https://nyheder.tv2.dk/samfund/dagens-coronatal-overblik-over-smittede-indlagte-og-doede\n",
      "[Info] Fetch https://tv.tv2.dk/soger\n",
      "[Info] Fetch https://omtv2.tv2.dk/job/ledige-stillinger\n",
      "[Info] Fetch https://sport.tv2.dk/ishockey/2022-05-28-ekspert-slikker-sig-om-munden-det-kan-ikke-blive-meget-stoerre\n",
      "[Info] Fetch https://nyheder.tv2.dk/samfund/2022-05-28-fem-anmeldelser-om-voldtaegt-til-karneval-i-aalborg\n",
      "[Info] Fetch https://nyheder.tv2.dk/udland/2022-05-16-16-aar-efter-historisk-dom-gik-hovedpersonen-paa-jagt-efter-sit-uoenskede-barn\n",
      "[Info] Fetch https://nyheder.tv2.dk/samfund/2022-05-28-udbrud-af-abekopper-kan-bare-vaere-toppen-af-isbjerget-advarer-who\n",
      "[Info] Fetch https://sport.tv2.dk/fodbold/2022-05-29-broendby-direktoer-tager-afstand-fra-fans\n",
      "[Info] Fetch https://sport.tv2.dk/fodbold/2022-05-29-liverpool-profil-kalder-fankaos-for-en-skaendsel\n",
      "[Info] Fetch https://nyheder.tv2.dk/politik/2022-05-28-der-skal-vaere-styrker-i-afrika-mener-politikere-men-de-er-uenige-om-hvorvidt-de\n",
      "[Info] Fetch https://sport.tv2.dk/resultater\n",
      "[Info] Fetch https://vejr.tv2.dk/2022-05-29-flere-landsdele-i-risikozonen-for-skybrud-og-voldsomme-byger\n",
      "[Info] Fetch https://omtv2.tv2.dk/kontakt/kontakt-tv-2/\n",
      "[Info] Fetch https://sport.tv2.dk/cykling/2022-05-29-australier-vinder-giro-ditalia-cort-slutter-med-topresultat\n",
      "[Info] Fetch https://nyheder.tv2.dk/live/2022-05-29-skal-vi-afskaffe-forsvarsforbeholdet-stil-dit-spoergsmaal-til-eksperterne\n",
      "[Info] Fetch https://kundeservice.tv2.dk/\n",
      "[Info] Fetch https://sport.tv2.dk/tennis/2022-05-29-holger-rune-bliver-paa-den-stoerste-arena\n",
      "[Info] Fetch https://sport.tv2.dk/fodbold/2022-05-29-68-anholdt-efter-tumult-ved-champions-league-stadion\n",
      "[Info] Fetch https://sport.tv2.dk/cykling/2022-05-28-dansk-stjerne-overvejer-vildt-skifte\n",
      "[Info] Fetch https://sport.tv2.dk/fodbold/2022-05-29-rasende-stjerne-udvandrede-fra-vinderinterview\n",
      "[Info] Fetch https://sport.tv2.dk/fodbold/2022-05-29-ralf-rangnick-stopper-i-manchester-united\n",
      "[Info] Fetch https://tv2.dk/navigation\n",
      "[Info] Fetch https://livsstil.tv2.dk/mad/opskrifter \n",
      "[Info] Fetch https://nyheder.tv2.dk/politik/2022-05-28-partiledere-poserer-med-vaaben-og-faar-kritik-for-manglende-situationsfornemmelse\n",
      "[Info] Fetch https://nyheder.tv2.dk/lokalt/2022-05-29-flere-jyske-festivaler-i-krise-kort-foer-afholdelse-risikerer-at-lukke-dele-af\n",
      "[Info] Fetch https://omtv2.tv2.dk/presse/\n",
      "[Info] Fetch https://vejr.tv2.dk\n",
      "[Info] Fetch https://sport.tv2.dk/cykling/2022-05-28-kaempe-nedtur-for-carapaz-mister-foerertroejen-efter-vild-finale\n",
      "[Info] Fetch https://nyheder.tv2.dk/udland/2022-05-28-svensker-vinder-guldpalmen\n",
      "[Info] Fetch https://nyheder.tv2.dk/2022-05-28-martin-jensen-koncert-matte-afbrydes-pa-jelling-festival\n",
      "[Info] Fetch https://nyheder.tv2.dk/samfund/2022-05-28-tv-2-med-eu-soldater-i-mozambique-danskerne-ville-passe-perfekt-ind-lyder-det\n",
      "[Info] Fetch https://nyheder.tv2.dk/live/2022-05-29-seneste-nyt-om-krigen-i-ukraine\n",
      "[Info] Fetch https://play.tv2.dk\n",
      "[Info] Fetch https://tv.tv2.dk/\n",
      "[Info] Fetch https://nyheder.tv2.dk/politik/2022-05-29-hvad-kommer-det-til-at-koste-at-afskaffe-forsvarsforbeholdet\n",
      "[Info] Fetch https://sport.tv2.dk/fodbold/2022-05-28-dramatiske-scener-udskoed-cl-finale-tre-gange\n",
      "[Info] Fetch https://sport.tv2.dk/fodbold/2022-05-28-klopp-gik-i-staa-paa-pressemoede\n",
      "[Info] Fetch https://nyheder.tv2.dk/samfund/2022-05-28-vi-er-ved-at-faa-missiler-fra-danmark-siger-ukrainsk-minister\n",
      "[Info] Fetch https://nyheder.tv2.dk/lokalt/2022-05-29-seks-storke-landede-paa-samme-mark\n",
      "[Info] Fetch https://sport.tv2.dk/live/2022-05-29-europa-playoff-aab-viborg\n",
      "[Info] Fetch https://tvtid.tv2.dk/\n",
      "[Info] Fetch https://nyheder.tv2.dk/udland/2022-05-29-russisk-ambassador-udelukker-brug-af-atomvaben-i-ukraine\n",
      "[Info] Fetch https://sport.tv2.dk/tennis/2022-05-28-jeg-er-glad-siger-rune-efter-magtdemonstration\n",
      "[Info] Fetch https://nyheder.tv2.dk/udland/2022-05-28-krigen-koster-kassen-men-rusland-oeger-sine-indtaegter-paa-gas-og-olie\n",
      "[Info] Fetch https://play.tv2.dk/programmer/serier/drama/dag-nat/\n",
      "[Info] Fetch https://nyheder.tv2.dk/politik/2022-05-28-tidligere-s-minister-er-tilbage-efter-alvorlig-sygdom\n",
      "[Info] Fetch https://nyheder.tv2.dk/udland/2022-05-29-zelenskyj-forlader-for-foerste-gang-siden-krigens-start-kyiv-omraadet-staerk\n",
      "[Info] Fetch https://nyheder.tv2.dk/udland/2022-05-29-for-foerste-gang-i-mere-end-90-dage-forlod-zelenskyj-i-dag-kyiv-omraadet\n",
      "[Info] Fetch https://nyheder.tv2.dk/lokalt/2022-05-28-skarpe-barberblade-bundet-fast-til-grene-hundelufter-blev-snittet-mellem-oejnene\n",
      "[Info] Fetch https://privatliv.tv2.dk/\n",
      "[Info] Fetch https://nyheder.tv2.dk/samfund/2022-05-29-flere-boern-ramt-af-akut-leverbetaendelse-nu-kommer-forskere-med-ny-teori\n"
     ]
    },
    {
     "name": "stdout",
     "output_type": "stream",
     "text": [
      "[Info] https://tv.tv2.dk/2017-08-12-tv-2-apps-tv-2-play-nyheder-sport-vejr-og-tv responded with status code 200\n",
      "[Info] https://tv.tv2.dk/ responded with status code 200\n",
      "[Info] https://tv2.dk responded with status code 200\n",
      "[Info] https://nyheder.tv2.dk/udland/2022-05-28-danske-missiler-kan-beskytte-vigtig-kystby-vurderer-militaeranalytiker responded with status code 200\n",
      "[Info] https://nyheder.tv2.dk/udland/2022-05-28-mirror-boris-johnson-vil-genindfore-gammelt-malesystem responded with status code 200\n",
      "[Info] https://nyheder.tv2.dk/udland/2022-05-29-son-af-britisk-politiker-slas-i-ukraine responded with status code 200\n",
      "[Info] https://nyheder.tv2.dk/politik/2022-05-29-ny-maaling-tegner-klart-billede-faa-dage-foer-folkeafstemningen responded with status code 200\n",
      "[Info] https://nyheder.tv2.dk/politik/2022-05-11-alt-du-skal-vide-om-forsvarsforbeholdet responded with status code 200\n",
      "[Info] https://nyheder.tv2.dk/udland/2022-05-28-putin-vi-er-klar-til-at-drofte-korneksport-fra-ukraine responded with status code 200\n",
      "[Info] https://nyheder.tv2.dk/lokalt/2022-05-29-flere-jyske-festivaler-i-krise-kort-foer-afholdelse-risikerer-at-lukke-dele-af responded with status code 200\n",
      "[Info] https://sport.tv2.dk/ responded with status code 200\n",
      "[Info] https://sport.tv2.dk/fodbold/2022-05-28-liverpool-fans-med-falske-billetter-var-skyld-i-kaos-siger-uefa responded with status code 200\n",
      "[Info] https://nyheder.tv2.dk/lokalt/2022-05-29-nu-vil-ibi-pippi-have-penge-i-kassen-efter-haervaerk-paa-jorn-maleri responded with status code 200\n",
      "[Info] https://nyheder.tv2.dk/live/2022-05-29-partilederdebat-om-forsvarsforbeholdet responded with status code 200\n",
      "[Info] https://vejr.tv2.dk/2022-05-29-se-op-mulighed-for-skypumper-paa-himlen responded with status code 200\n",
      "[Info] https://nyheder.tv2.dk/politik/2022-05-28-tidligere-s-minister-er-tilbage-efter-alvorlig-sygdom responded with status code 200\n",
      "[Info] https://nyheder.tv2.dk/2022-05-28-martin-jensen-koncert-matte-afbrydes-pa-jelling-festival responded with status code 200\n",
      "[Info] https://nyheder.tv2.dk/udland/2022-05-29-fly-forsvundet-fra-radaren-22-personer-savnes responded with status code 200\n",
      "[Info] https://sport.tv2.dk/fodbold/2022-05-29-liverpool-profil-kalder-fankaos-for-en-skaendsel responded with status code 200\n",
      "[Info] https://nyheder.tv2.dk/samfund/2022-05-28-fem-anmeldelser-om-voldtaegt-til-karneval-i-aalborg responded with status code 200\n",
      "[Info] https://sport.tv2.dk/haandbold/2022-05-28-haugsteds-em-i-fare-ude-i-op-til-et-halvt-aar responded with status code 200\n",
      "[Info] https://sport.tv2.dk/tennis/2022-05-28-rune-udraderer-modstander-ved-french-open responded with status code 200\n",
      "[Info] https://vejr.tv2.dk responded with status code 200\n",
      "[Info] https://sport.tv2.dk/haandbold/2022-05-28-profil-i-taarer-efter-sidste-hjemmekamp responded with status code 200\n",
      "[Info] https://sport.tv2.dk/cykling/2022-05-28-kaempe-nedtur-for-carapaz-mister-foerertroejen-efter-vild-finale responded with status code 200\n",
      "[Info] https://sport.tv2.dk/fodbold/2022-05-29-68-anholdt-efter-tumult-ved-champions-league-stadion responded with status code 200\n",
      "[Info] https://sport.tv2.dk/fodbold/2022-05-28-dramatiske-scener-udskoed-cl-finale-tre-gange responded with status code 200\n",
      "[Info] https://sr.tv2.dk/ responded with status code 200\n",
      "[Info] https://tvtid.tv2.dk/ responded with status code 200\n",
      "[Info] https://sport.tv2.dk/live/2022-05-29-europa-playoff-aab-viborg responded with status code 200\n",
      "[Info] https://nyheder.tv2.dk/udland/2022-05-29-joe-biden-mindes-ofrene-for-skoleskydningen-i-uvalde responded with status code 200\n",
      "[Info] https://nyheder.tv2.dk/1234 responded with status code 200\n",
      "[Info] https://nyheder.tv2.dk/live/2022-05-29-skal-vi-afskaffe-forsvarsforbeholdet-stil-dit-spoergsmaal-til-eksperterne responded with status code 200\n",
      "[Info] https://nyheder.tv2.dk/lokalt/2022-05-28-lov-forhindrer-kvinde-i-at-donere-modermaelk-nu-kraever-politiker-svar-fra responded with status code 200\n",
      "[Info] https://nyheder.tv2.dk/samfund/dagens-coronatal-overblik-over-smittede-indlagte-og-doede responded with status code 200\n",
      "[Info] https://tv.tv2.dk/soger responded with status code 200\n",
      "[Info] https://nyheder.tv2.dk/udland/2022-05-16-16-aar-efter-historisk-dom-gik-hovedpersonen-paa-jagt-efter-sit-uoenskede-barn responded with status code 200\n",
      "[Info] https://nyheder.tv2.dk/2022-05-28-kort-over-invasionen-foelg-udviklingen-her responded with status code 200\n",
      "[Info] https://vejr.tv2.dk/ responded with status code 200\n",
      "[Info] https://nyheder.tv2.dk/politik/2022-05-28-partiledere-poserer-med-vaaben-og-faar-kritik-for-manglende-situationsfornemmelse responded with status code 200\n",
      "[Info] https://nyheder.tv2.dk/politik/2022-05-28-der-skal-vaere-styrker-i-afrika-mener-politikere-men-de-er-uenige-om-hvorvidt-de responded with status code 200\n",
      "[Info] https://tv2.dk/navigation responded with status code 200\n",
      "[Info] https://nyheder.tv2.dk/politik/2022-05-21-hvad-mener-partierne-om-forsvarsforbeholdet-faa-overblikket-her responded with status code 200\n",
      "[Info] https://sport.tv2.dk/haandbold/2022-05-28-viborg-tvinger-bronzeduel-ud-i-kamp-tre responded with status code 200\n",
      "[Info] https://sport.tv2.dk/haandbold/2022-05-28-esbjerg-udskyder-dm-afgoerelse-med-overlegen-sejr responded with status code 200\n",
      "[Info] https://nyheder.tv2.dk/udland/2022-05-29-russisk-ambassador-udelukker-brug-af-atomvaben-i-ukraine responded with status code 200\n",
      "[Info] https://nyheder.tv2.dk/samfund/2022-05-28-vi-er-ved-at-faa-missiler-fra-danmark-siger-ukrainsk-minister responded with status code 200\n",
      "[Info] https://nyheder.tv2.dk/politik/2022-05-29-hvad-kommer-det-til-at-koste-at-afskaffe-forsvarsforbeholdet responded with status code 200\n",
      "[Info] On https://tv2.dk 146 links were found\n",
      "[Info] https://sport.tv2.dk/tennis/2022-05-29-holger-rune-bliver-paa-den-stoerste-arena responded with status code 200\n",
      "[Info] https://sport.tv2.dk/fodbold/2022-05-28-klopp-gik-i-staa-paa-pressemoede responded with status code 200\n",
      "[Info] https://nyheder.tv2.dk/udland/2022-05-28-krigen-koster-kassen-men-rusland-oeger-sine-indtaegter-paa-gas-og-olie responded with status code 200\n",
      "[Info] https://sport.tv2.dk/fodbold/2022-05-29-broendby-direktoer-tager-afstand-fra-fans responded with status code 200\n",
      "[Info] https://sport.tv2.dk/fodbold/2022-05-28-real-madrid-vinder-champions-league responded with status code 200\n",
      "[Info] https://sport.tv2.dk/fodbold/2022-05-29-dansker-vinder-milliardkamp responded with status code 200\n",
      "[Info] https://nyheder.tv2.dk/udland/2022-05-29-zelenskyj-forlader-for-foerste-gang-siden-krigens-start-kyiv-omraadet-staerk responded with status code 200\n",
      "[Info] https://sport.tv2.dk/fodbold/2022-05-29-soendag-venter-milliardkampen-0 responded with status code 200\n",
      "[Info] https://sport.tv2.dk/fodbold/2022-05-29-ralf-rangnick-stopper-i-manchester-united responded with status code 200\n",
      "[Info] https://sport.tv2.dk/fodbold/2022-05-29-rasende-stjerne-udvandrede-fra-vinderinterview responded with status code 200\n",
      "[Info] https://sport.tv2.dk/formel-1/2022-05-29-magnussen-forstaar-intet-af-afgoerende-beslutning responded with status code 200\n",
      "[Info] https://sport.tv2.dk/tennis/2022-05-28-jeg-er-glad-siger-rune-efter-magtdemonstration responded with status code 200\n",
      "[Info] https://sport.tv2.dk/ishockey/2022-05-28-ekspert-slikker-sig-om-munden-det-kan-ikke-blive-meget-stoerre responded with status code 200\n",
      "[Info] https://nyheder.tv2.dk/udland/2022-05-29-russerne-naermer-sig-militaermilepael-i-ukraine responded with status code 200\n",
      "[Info] On https://sr.tv2.dk/ 49 links were found\n",
      "[Info] On https://nyheder.tv2.dk/1234 83 links were found\n",
      "[Info] https://play.tv2.dk responded with status code 200\n",
      "[Info] https://omtv2.tv2.dk/presse/ responded with status code 200\n",
      "[Info] https://nyheder.tv2.dk/samfund/2022-05-29-flere-boern-ramt-af-akut-leverbetaendelse-nu-kommer-forskere-med-ny-teori responded with status code 200\n",
      "[Info] https://sport.tv2.dk/resultater responded with status code 200\n",
      "[Info] https://kundeservice.tv2.dk/ responded with status code 200\n",
      "[Info] https://omtv2.tv2.dk/ responded with status code 200\n",
      "[Info] On https://omtv2.tv2.dk/presse/ 91 links were found\n",
      "[Info] https://play.tv2.dk/programmer/serier/drama/dag-nat/ responded with status code 200\n",
      "[Info] On https://sport.tv2.dk/haandbold/2022-05-28-viborg-tvinger-bronzeduel-ud-i-kamp-tre 93 links were found\n",
      "[Info] On https://nyheder.tv2.dk/samfund/2022-05-29-flere-boern-ramt-af-akut-leverbetaendelse-nu-kommer-forskere-med-ny-teori 92 links were found\n"
     ]
    },
    {
     "name": "stdout",
     "output_type": "stream",
     "text": [
      "[Info] On https://sport.tv2.dk/haandbold/2022-05-28-profil-i-taarer-efter-sidste-hjemmekamp 90 links were found\n",
      "[Info] On https://kundeservice.tv2.dk/ 15 links were found\n",
      "[Info] https://omtv2.tv2.dk/kontakt/eksterne-partnere/offentlig-fremvisning responded with status code 200\n",
      "[Info] On https://vejr.tv2.dk/2022-05-29-se-op-mulighed-for-skypumper-paa-himlen 78 links were found\n",
      "[Info] On https://play.tv2.dk 46 links were found\n",
      "[Info] On https://nyheder.tv2.dk/politik/2022-05-21-hvad-mener-partierne-om-forsvarsforbeholdet-faa-overblikket-her 79 links were found\n",
      "[Info] On https://sport.tv2.dk/formel-1/2022-05-29-magnussen-forstaar-intet-af-afgoerende-beslutning 72 links were found\n",
      "[Info] On https://sport.tv2.dk/resultater 117 links were found\n",
      "[Info] On https://nyheder.tv2.dk/udland/2022-05-29-zelenskyj-forlader-for-foerste-gang-siden-krigens-start-kyiv-omraadet-staerk 87 links were found\n",
      "[Info] On https://sport.tv2.dk/tennis/2022-05-28-rune-udraderer-modstander-ved-french-open 86 links were found\n",
      "[Info] On https://sport.tv2.dk/haandbold/2022-05-28-haugsteds-em-i-fare-ude-i-op-til-et-halvt-aar 91 links were found\n",
      "[Info] On https://sport.tv2.dk/fodbold/2022-05-29-dansker-vinder-milliardkamp 89 links were found\n",
      "[Info] On https://nyheder.tv2.dk/politik/2022-05-29-ny-maaling-tegner-klart-billede-faa-dage-foer-folkeafstemningen 81 links were found\n",
      "[Info] On https://nyheder.tv2.dk/udland/2022-05-29-russerne-naermer-sig-militaermilepael-i-ukraine 81 links were found\n",
      "[Info] On https://sport.tv2.dk/fodbold/2022-05-29-liverpool-profil-kalder-fankaos-for-en-skaendsel 89 links were found\n",
      "[Info] On https://sport.tv2.dk/fodbold/2022-05-28-dramatiske-scener-udskoed-cl-finale-tre-gange 93 links were found\n",
      "[Info] On https://play.tv2.dk/programmer/serier/drama/dag-nat/ 47 links were found\n",
      "[Info] On https://nyheder.tv2.dk/politik/2022-05-28-partiledere-poserer-med-vaaben-og-faar-kritik-for-manglende-situationsfornemmelse 100 links were found\n",
      "[Info] On https://nyheder.tv2.dk/samfund/dagens-coronatal-overblik-over-smittede-indlagte-og-doede 94 links were found\n",
      "[Info] On https://tv2.dk/navigation 116 links were found\n",
      "[Info] On https://nyheder.tv2.dk/udland/2022-05-28-mirror-boris-johnson-vil-genindfore-gammelt-malesystem 78 links were found\n",
      "[Info] On https://tvtid.tv2.dk/ 90 links were found\n",
      "[Info] On https://sport.tv2.dk/live/2022-05-29-europa-playoff-aab-viborg 94 links were found\n",
      "[Info] On https://nyheder.tv2.dk/samfund/2022-05-28-vi-er-ved-at-faa-missiler-fra-danmark-siger-ukrainsk-minister 87 links were found\n",
      "[Info] On https://tv.tv2.dk/soger 64 links were found\n",
      "[Info] On https://sport.tv2.dk/fodbold/2022-05-28-liverpool-fans-med-falske-billetter-var-skyld-i-kaos-siger-uefa 90 links were found\n",
      "[Info] On https://nyheder.tv2.dk/lokalt/2022-05-29-nu-vil-ibi-pippi-have-penge-i-kassen-efter-haervaerk-paa-jorn-maleri 86 links were found\n",
      "[Info] On https://nyheder.tv2.dk/udland/2022-05-28-krigen-koster-kassen-men-rusland-oeger-sine-indtaegter-paa-gas-og-olie 85 links were found\n",
      "[Info] On https://sport.tv2.dk/ishockey/2022-05-28-ekspert-slikker-sig-om-munden-det-kan-ikke-blive-meget-stoerre 77 links were found\n",
      "[Info] On https://nyheder.tv2.dk/udland/2022-05-29-fly-forsvundet-fra-radaren-22-personer-savnes 77 links were found\n",
      "[Info] On https://sport.tv2.dk/cykling/2022-05-28-kaempe-nedtur-for-carapaz-mister-foerertroejen-efter-vild-finale 86 links were found\n",
      "[Info] https://nyheder.tv2.dk/politik/2022-05-28-ja-partierne-kan-se-danmark-deltage-i-flere-eu-missioner-men-har-forsvaret responded with status code 200\n",
      "[Info] On https://nyheder.tv2.dk/lokalt/2022-05-28-lov-forhindrer-kvinde-i-at-donere-modermaelk-nu-kraever-politiker-svar-fra 88 links were found\n",
      "[Info] On https://sport.tv2.dk/tennis/2022-05-29-holger-rune-bliver-paa-den-stoerste-arena 89 links were found\n",
      "[Info] https://nyheder.tv2.dk/lokalt/2022-05-29-sjaelden-fugleunge-styrtede-til-jorden-da-trae-blev-faeldet-vi-er-saa-aergerlige responded with status code 200\n",
      "[Info] https://sport.tv2.dk/cykling/2022-05-28-dansk-stjerne-overvejer-vildt-skifte responded with status code 200\n",
      "[Info] https://nyheder.tv2.dk/udland/2022-05-28-forskere-rusland-stopper-naeppe-med-fremskridt-i-donbas responded with status code 200\n",
      "[Info] On https://nyheder.tv2.dk/udland/2022-05-28-forskere-rusland-stopper-naeppe-med-fremskridt-i-donbas 83 links were found\n",
      "[Info] https://nyheder.tv2.dk/udland/2022-05-28-vigtig-allieret-vender-putin-ryggen-klart-budskab-til-moskva-siger-forsker responded with status code 200\n",
      "[Info] https://nyheder.tv2.dk/nyhedsbreve responded with status code 200\n",
      "[Info] On https://sport.tv2.dk/fodbold/2022-05-28-real-madrid-vinder-champions-league 87 links were found\n",
      "[Info] On https://nyheder.tv2.dk/politik/2022-05-11-alt-du-skal-vide-om-forsvarsforbeholdet 75 links were found\n",
      "[Info] On https://sport.tv2.dk/fodbold/2022-05-29-soendag-venter-milliardkampen-0 85 links were found\n",
      "[Info] https://nyheder.tv2.dk/udland/2022-05-29-sag-mod-drabsdomt-australsk-mor-skal-undersoges-efter-dansk-pres responded with status code 200\n",
      "[Info] https://nyheder.tv2.dk/krimi/2022-05-29-kajakroere-finder-livlos-mand-i-vandet-ud-for-kastrup responded with status code 200\n",
      "[Info] https://sport.tv2.dk/ishockey/2022-05-29-sikrer-vm-bronze-efter-vildt-comeback responded with status code 200\n",
      "[Info] https://nyheder.tv2.dk/live/2022-05-29-seneste-nyt-om-krigen-i-ukraine responded with status code 200\n",
      "[Info] https://nyheder.tv2.dk/lokalt/2022-05-28-skarpe-barberblade-bundet-fast-til-grene-hundelufter-blev-snittet-mellem-oejnene responded with status code 200\n",
      "[Info] On https://nyheder.tv2.dk/udland/2022-05-29-joe-biden-mindes-ofrene-for-skoleskydningen-i-uvalde 88 links were found\n",
      "[Info] On https://vejr.tv2.dk/ 88 links were found\n",
      "[Info] On https://nyheder.tv2.dk/udland/2022-05-16-16-aar-efter-historisk-dom-gik-hovedpersonen-paa-jagt-efter-sit-uoenskede-barn 88 links were found\n",
      "[Info] https://nyheder.tv2.dk/udland/2022-05-28-svensker-vinder-guldpalmen responded with status code 200\n",
      "[Info] https://nyheder.tv2.dk/ responded with status code 200\n",
      "[Info] https://nyheder.tv2.dk/samfund/2022-05-28-udbrud-af-abekopper-kan-bare-vaere-toppen-af-isbjerget-advarer-who responded with status code 200\n",
      "[Info] https://vejr.tv2.dk/2022-05-29-flere-landsdele-i-risikozonen-for-skybrud-og-voldsomme-byger responded with status code 200\n",
      "[Info] https://nyheder.tv2.dk/udland/2022-05-29-for-foerste-gang-i-mere-end-90-dage-forlod-zelenskyj-i-dag-kyiv-omraadet responded with status code 200\n",
      "[Info] https://sport.tv2.dk/live/2022-05-29-vm-finale-finland-canada responded with status code 200\n",
      "[Info] On https://nyheder.tv2.dk/2022-05-28-kort-over-invasionen-foelg-udviklingen-her 55 links were found\n",
      "[Info] https://livsstil.tv2.dk/mad/opskrifter  responded with status code 200\n",
      "[Info] https://sport.tv2.dk/tennis/2022-05-29-stjerne-uskadt-efter-kaos-troede-at-der-blev-skudt responded with status code 200\n",
      "[Info] https://mit.tv2.dk responded with status code 200\n",
      "[Info] https://search.tv2.dk/ responded with status code 200\n",
      "[Info] https://sport.tv2.dk/haandbold/2022-05-28-overnaturlig-profil-blev-motiveret-af-hoejlunds-vilde-kamp responded with status code 200\n",
      "[Info] On https://nyheder.tv2.dk/politik/2022-05-29-hvad-kommer-det-til-at-koste-at-afskaffe-forsvarsforbeholdet 83 links were found\n",
      "[Info] On https://nyheder.tv2.dk/live/2022-05-29-partilederdebat-om-forsvarsforbeholdet 74 links were found\n",
      "[Info] On https://vejr.tv2.dk/2022-05-29-flere-landsdele-i-risikozonen-for-skybrud-og-voldsomme-byger 75 links were found\n",
      "[Info] On https://sport.tv2.dk/tennis/2022-05-28-jeg-er-glad-siger-rune-efter-magtdemonstration 87 links were found\n",
      "[Info] On https://nyheder.tv2.dk/udland/2022-05-28-vigtig-allieret-vender-putin-ryggen-klart-budskab-til-moskva-siger-forsker 85 links were found\n",
      "[Info] On https://nyheder.tv2.dk/politik/2022-05-28-der-skal-vaere-styrker-i-afrika-mener-politikere-men-de-er-uenige-om-hvorvidt-de 84 links were found\n",
      "[Info] On https://tv.tv2.dk/2017-08-12-tv-2-apps-tv-2-play-nyheder-sport-vejr-og-tv 78 links were found\n",
      "[Info] On https://mit.tv2.dk 5 links were found\n",
      "[Info] On https://sport.tv2.dk/fodbold/2022-05-29-rasende-stjerne-udvandrede-fra-vinderinterview 89 links were found\n",
      "[Info] On https://nyheder.tv2.dk/samfund/2022-05-28-fem-anmeldelser-om-voldtaegt-til-karneval-i-aalborg 85 links were found\n",
      "[Info] On https://nyheder.tv2.dk/nyhedsbreve 43 links were found\n",
      "[Info] On https://nyheder.tv2.dk/politik/2022-05-28-tidligere-s-minister-er-tilbage-efter-alvorlig-sygdom 88 links were found\n",
      "[Info] On https://sport.tv2.dk/ishockey/2022-05-29-sikrer-vm-bronze-efter-vildt-comeback 84 links were found\n"
     ]
    },
    {
     "name": "stdout",
     "output_type": "stream",
     "text": [
      "[Info] On https://nyheder.tv2.dk/udland/2022-05-29-russisk-ambassador-udelukker-brug-af-atomvaben-i-ukraine 84 links were found\n",
      "[Info] On https://nyheder.tv2.dk/udland/2022-05-28-putin-vi-er-klar-til-at-drofte-korneksport-fra-ukraine 83 links were found\n",
      "[Info] On https://nyheder.tv2.dk/udland/2022-05-28-danske-missiler-kan-beskytte-vigtig-kystby-vurderer-militaeranalytiker 96 links were found\n",
      "[Info] On https://nyheder.tv2.dk/krimi/2022-05-29-kajakroere-finder-livlos-mand-i-vandet-ud-for-kastrup 83 links were found\n",
      "[Info] On https://nyheder.tv2.dk/politik/2022-05-28-ja-partierne-kan-se-danmark-deltage-i-flere-eu-missioner-men-har-forsvaret 84 links were found\n",
      "[Info] https://sport.tv2.dk/formel-1/2022-05-28-magnussen-skuffer-i-kvalifikationen responded with status code 200\n",
      "[Info] On https://sport.tv2.dk/formel-1/2022-05-28-magnussen-skuffer-i-kvalifikationen 76 links were found\n",
      "[Info] On https://omtv2.tv2.dk/ 88 links were found\n",
      "[Info] https://play.tv2.dk/programmer/magasiner/serier/kernen/da-aborten-blev-bombet-vaek-269633/ responded with status code 200\n",
      "[Info] On https://play.tv2.dk/programmer/magasiner/serier/kernen/da-aborten-blev-bombet-vaek-269633/ 48 links were found\n",
      "[Info] On https://nyheder.tv2.dk/lokalt/2022-05-28-skarpe-barberblade-bundet-fast-til-grene-hundelufter-blev-snittet-mellem-oejnene 85 links were found\n",
      "[Info] On https://sport.tv2.dk/fodbold/2022-05-29-68-anholdt-efter-tumult-ved-champions-league-stadion 82 links were found\n",
      "[Info] On https://nyheder.tv2.dk/lokalt/2022-05-29-flere-jyske-festivaler-i-krise-kort-foer-afholdelse-risikerer-at-lukke-dele-af 85 links were found\n",
      "[Info] On https://sport.tv2.dk/cykling/2022-05-28-dansk-stjerne-overvejer-vildt-skifte 93 links were found\n",
      "[Info] On https://nyheder.tv2.dk/samfund/2022-05-28-udbrud-af-abekopper-kan-bare-vaere-toppen-af-isbjerget-advarer-who 92 links were found\n",
      "[Info] On https://sport.tv2.dk/haandbold/2022-05-28-overnaturlig-profil-blev-motiveret-af-hoejlunds-vilde-kamp 93 links were found\n",
      "[Info] On https://sport.tv2.dk/fodbold/2022-05-29-broendby-direktoer-tager-afstand-fra-fans 89 links were found\n",
      "[Info] On https://sport.tv2.dk/fodbold/2022-05-29-ralf-rangnick-stopper-i-manchester-united 90 links were found\n",
      "[Info] On https://sport.tv2.dk/fodbold/2022-05-28-klopp-gik-i-staa-paa-pressemoede 89 links were found\n",
      "[Info] On https://nyheder.tv2.dk/udland/2022-05-29-sag-mod-drabsdomt-australsk-mor-skal-undersoges-efter-dansk-pres 77 links were found\n",
      "[Info] On https://nyheder.tv2.dk/2022-05-28-martin-jensen-koncert-matte-afbrydes-pa-jelling-festival 81 links were found\n",
      "[Info] https://omtv2.tv2.dk/kontakt/kontakt-tv-2/ responded with status code 200\n",
      "[Info] On https://omtv2.tv2.dk/kontakt/kontakt-tv-2/ 90 links were found\n",
      "[Info] On https://nyheder.tv2.dk/lokalt/2022-05-29-sjaelden-fugleunge-styrtede-til-jorden-da-trae-blev-faeldet-vi-er-saa-aergerlige 87 links were found\n",
      "[Info] On https://vejr.tv2.dk 88 links were found\n",
      "[Info] On https://nyheder.tv2.dk/udland/2022-05-28-svensker-vinder-guldpalmen 84 links were found\n",
      "[Info] On https://sport.tv2.dk/live/2022-05-29-vm-finale-finland-canada 87 links were found\n",
      "[Info] On https://search.tv2.dk/ 66 links were found\n",
      "[Info] On https://sport.tv2.dk/ 111 links were found\n",
      "[Info] On https://nyheder.tv2.dk/live/2022-05-29-skal-vi-afskaffe-forsvarsforbeholdet-stil-dit-spoergsmaal-til-eksperterne 76 links were found\n",
      "[Info] On https://nyheder.tv2.dk/udland/2022-05-29-son-af-britisk-politiker-slas-i-ukraine 77 links were found\n",
      "[Info] On https://nyheder.tv2.dk/live/2022-05-29-seneste-nyt-om-krigen-i-ukraine 97 links were found\n",
      "[Info] On https://livsstil.tv2.dk/mad/opskrifter  44 links were found\n",
      "[Info] On https://sport.tv2.dk/haandbold/2022-05-28-esbjerg-udskyder-dm-afgoerelse-med-overlegen-sejr 93 links were found\n",
      "[Info] On https://omtv2.tv2.dk/kontakt/eksterne-partnere/offentlig-fremvisning 73 links were found\n",
      "[Info] On https://nyheder.tv2.dk/ 98 links were found\n",
      "[Info] On https://tv.tv2.dk/ 97 links were found\n",
      "[Info] On https://sport.tv2.dk/tennis/2022-05-29-stjerne-uskadt-efter-kaos-troede-at-der-blev-skudt 95 links were found\n",
      "[Info] On https://nyheder.tv2.dk/udland/2022-05-29-for-foerste-gang-i-mere-end-90-dage-forlod-zelenskyj-i-dag-kyiv-omraadet 87 links were found\n",
      "[Info] https://nyheder.tv2.dk/lokalt/2022-05-29-seks-storke-landede-paa-samme-mark responded with status code 200\n",
      "[Info] On https://nyheder.tv2.dk/lokalt/2022-05-29-seks-storke-landede-paa-samme-mark 87 links were found\n",
      "[Info] https://nyheder.tv2.dk/samfund/2022-05-28-tv-2-med-eu-soldater-i-mozambique-danskerne-ville-passe-perfekt-ind-lyder-det responded with status code 200\n",
      "[Info] On https://nyheder.tv2.dk/samfund/2022-05-28-tv-2-med-eu-soldater-i-mozambique-danskerne-ville-passe-perfekt-ind-lyder-det 78 links were found\n",
      "[Info] https://sport.tv2.dk/formel-1/2022-05-28-magnussen-og-teamet-uenige-i-kvalen responded with status code 200\n",
      "[Info] On https://sport.tv2.dk/formel-1/2022-05-28-magnussen-og-teamet-uenige-i-kvalen 76 links were found\n",
      "[Info] https://sport.tv2.dk/cykling/2022-05-29-australier-vinder-giro-ditalia-cort-slutter-med-topresultat responded with status code 200\n",
      "[Info] https://omtv2.tv2.dk/job/ledige-stillinger responded with status code 200\n",
      "[Info] On https://omtv2.tv2.dk/job/ledige-stillinger 95 links were found\n",
      "[Info] https://livsstil.tv2.dk/2022-05-24-en-rekvisit-var-saa-vellykket-at-folkene-bag-tv-serie-selv-blev-skraemt responded with status code 200\n",
      "[Info] On https://sport.tv2.dk/cykling/2022-05-29-australier-vinder-giro-ditalia-cort-slutter-med-topresultat 86 links were found\n",
      "[Info] On https://livsstil.tv2.dk/2022-05-24-en-rekvisit-var-saa-vellykket-at-folkene-bag-tv-serie-selv-blev-skraemt 76 links were found\n",
      "[Info] https://privatliv.tv2.dk/ responded with status code 403\n",
      "[Info] On https://privatliv.tv2.dk/ 0 links were found\n",
      "CPU times: user 1.68 s, sys: 103 ms, total: 1.78 s\n",
      "Wall time: 2.61 s\n"
     ]
    }
   ],
   "source": [
    "%%time\n",
    "\n",
    "async def fetch_url(url: URL, session: ClientSession) -> str:\n",
    "    print(f\"[Info] Fetch {str(url)}\")\n",
    "    response = await session.request(method=\"GET\", url=url)\n",
    "    print(f\"[Info] {str(url)} responded with status code {response.status}\")\n",
    "    html = await response.text()\n",
    "    return html\n",
    "\n",
    "\n",
    "async def collect_links(html: str) -> List[str]:\n",
    "    href = re.compile(r'href=\"(.*?)\"')\n",
    "    _links = list(link for link in href.findall(html))\n",
    "    return _links\n",
    "\n",
    "\n",
    "async def fetch_links(urls: List[URL]) -> List[str]:\n",
    "    \"\"\"\n",
    "    Usage:\n",
    "        output = asyncio.run(fetch_links(urls=urls))\n",
    "    \"\"\"\n",
    "    links = list()\n",
    "\n",
    "    async def update_links(url: URL, session: ClientSession) -> None:\n",
    "        html = await fetch_url(url=url, session=session)\n",
    "        _links = await collect_links(html=html)\n",
    "        print(f\"[Info] On {str(url)} {len(_links)} links were found\")\n",
    "        return _links\n",
    "\n",
    "    async with ClientSession() as session:\n",
    "        tasks = list(update_links(url=url, session=session) for url in urls)\n",
    "        _links = await asyncio.gather(*tasks)\n",
    "        links += _links\n",
    "    return links\n",
    "\n",
    "output = asyncio.run(fetch_links(urls=urls))"
   ]
  },
  {
   "cell_type": "code",
   "execution_count": 36,
   "id": "1b3b45de",
   "metadata": {},
   "outputs": [],
   "source": [
    "merged = list(itertools.chain(*output))"
   ]
  },
  {
   "cell_type": "code",
   "execution_count": 38,
   "id": "f263fb94",
   "metadata": {},
   "outputs": [
    {
     "data": {
      "text/plain": [
       "9029"
      ]
     },
     "execution_count": 38,
     "metadata": {},
     "output_type": "execute_result"
    }
   ],
   "source": [
    "len(merged)"
   ]
  },
  {
   "cell_type": "markdown",
   "id": "2d215068",
   "metadata": {},
   "source": [
    "## Find by iframes"
   ]
  },
  {
   "cell_type": "code",
   "execution_count": 19,
   "id": "4f581e29",
   "metadata": {},
   "outputs": [],
   "source": [
    "options = webdriver.FirefoxOptions()\n",
    "#options.add_argument('--headless')\n",
    "#options.add_argument('--no-sandbox')"
   ]
  },
  {
   "cell_type": "code",
   "execution_count": 20,
   "id": "8e31f02b",
   "metadata": {
    "scrolled": true
   },
   "outputs": [
    {
     "name": "stderr",
     "output_type": "stream",
     "text": [
      "/var/folders/st/1wj362gj7s7453bxl43k38780000gn/T/ipykernel_13686/41994048.py:8: DeprecationWarning: find_elements_by_tag_name is deprecated. Please use find_elements(by=By.TAG_NAME, value=name) instead\n",
      "  iframes = fox.find_elements_by_tag_name('iframe')\n"
     ]
    },
    {
     "data": {
      "text/plain": [
       "1"
      ]
     },
     "execution_count": 20,
     "metadata": {},
     "output_type": "execute_result"
    }
   ],
   "source": [
    "fox = webdriver.Firefox(options=options)\n",
    "fox.get(site.url)\n",
    "WebDriverWait(fox, 10).until(\n",
    "        EC.presence_of_element_located((By.XPATH, \"/html/body/div[1]/div/div/div/div[2]/div/button[3]\"))\n",
    "    ).click()\n",
    "#WebDriverWait(fox, 10).until(EC.presence_of_all_elements_located((By.TAG_NAME, \"iframe\")))\n",
    "#fox.find_element(by=By.TAG_NAME, value=\"html\").send_keys(Keys.END)\n",
    "iframes = fox.find_elements_by_tag_name('iframe')\n",
    "len(iframes)"
   ]
  },
  {
   "cell_type": "code",
   "execution_count": 40,
   "id": "5c0f30ee",
   "metadata": {},
   "outputs": [],
   "source": [
    "html = BeautifulSoup(fox.page_source)"
   ]
  },
  {
   "cell_type": "code",
   "execution_count": null,
   "id": "388bf427",
   "metadata": {},
   "outputs": [],
   "source": []
  },
  {
   "cell_type": "code",
   "execution_count": 37,
   "id": "7eafad5f",
   "metadata": {},
   "outputs": [
    {
     "name": "stderr",
     "output_type": "stream",
     "text": [
      "/var/folders/st/1wj362gj7s7453bxl43k38780000gn/T/ipykernel_13686/2017387176.py:1: DeprecationWarning: find_element_by_tag_name is deprecated. Please use find_element(by=By.TAG_NAME, value=name) instead\n",
      "  fox.find_element_by_tag_name('iframe').id\n"
     ]
    },
    {
     "data": {
      "text/plain": [
       "'e6bc1e46-00ed-42e1-ac6e-82b94b53c41b'"
      ]
     },
     "execution_count": 37,
     "metadata": {},
     "output_type": "execute_result"
    }
   ],
   "source": [
    "fox.find_element_by_tag_name('iframe')."
   ]
  },
  {
   "cell_type": "code",
   "execution_count": 23,
   "id": "de8a5aea",
   "metadata": {},
   "outputs": [],
   "source": [
    "iframe = iframes[0]"
   ]
  },
  {
   "cell_type": "code",
   "execution_count": 38,
   "id": "a2e7eec9",
   "metadata": {},
   "outputs": [
    {
     "data": {
      "text/plain": [
       "'5c7e24f8-73fe-4ef8-8d21-e0b0b8822d84'"
      ]
     },
     "execution_count": 38,
     "metadata": {},
     "output_type": "execute_result"
    }
   ],
   "source": [
    "iframe.id"
   ]
  },
  {
   "cell_type": "code",
   "execution_count": null,
   "id": "3d336fb8",
   "metadata": {},
   "outputs": [],
   "source": []
  },
  {
   "cell_type": "code",
   "execution_count": 62,
   "id": "f1a745eb",
   "metadata": {},
   "outputs": [
    {
     "name": "stderr",
     "output_type": "stream",
     "text": [
      "/var/folders/st/1wj362gj7s7453bxl43k38780000gn/T/ipykernel_12291/34575999.py:1: DeprecationWarning: find_elements_by_tag_name is deprecated. Please use find_elements(by=By.TAG_NAME, value=name) instead\n",
      "  iframes = fox.find_elements_by_tag_name('iframe')\n"
     ]
    },
    {
     "data": {
      "text/plain": [
       "13"
      ]
     },
     "execution_count": 62,
     "metadata": {},
     "output_type": "execute_result"
    }
   ],
   "source": [
    "iframes = fox.find_elements_by_tag_name('iframe')\n",
    "len(iframes)"
   ]
  },
  {
   "cell_type": "code",
   "execution_count": 44,
   "id": "103801ac",
   "metadata": {},
   "outputs": [
    {
     "data": {
      "text/plain": [
       "9"
      ]
     },
     "execution_count": 44,
     "metadata": {},
     "output_type": "execute_result"
    }
   ],
   "source": [
    "len(html.find_all(\"iframe\"))"
   ]
  },
  {
   "cell_type": "code",
   "execution_count": 51,
   "id": "6372f132",
   "metadata": {},
   "outputs": [
    {
     "name": "stderr",
     "output_type": "stream",
     "text": [
      "/var/folders/st/1wj362gj7s7453bxl43k38780000gn/T/ipykernel_13686/3196645008.py:1: DeprecationWarning: find_elements_by_tag_name is deprecated. Please use find_elements(by=By.TAG_NAME, value=name) instead\n",
      "  iframes = fox.find_elements_by_tag_name('iframe')\n"
     ]
    }
   ],
   "source": [
    "iframes = fox.find_elements_by_tag_name('iframe')"
   ]
  },
  {
   "cell_type": "code",
   "execution_count": 59,
   "id": "e1432cef",
   "metadata": {},
   "outputs": [
    {
     "data": {
      "text/plain": [
       "'a0e1741d-1933-4fba-8161-9701eadd2c7c'"
      ]
     },
     "execution_count": 59,
     "metadata": {},
     "output_type": "execute_result"
    }
   ],
   "source": [
    "iframes[4].id"
   ]
  },
  {
   "cell_type": "code",
   "execution_count": 50,
   "id": "0038487f",
   "metadata": {},
   "outputs": [
    {
     "data": {
      "text/plain": [
       "['google_ads_iframe_/19784602/tv2dk-web/Forsiden/Forsiden_Forside/Forsiden_Forside_Topbanner_1_0',\n",
       " 'google_ads_iframe_/19784602/tv2dk-web/Forsiden/Forsiden_Forside/Forsiden_Forside_Wide_1_0',\n",
       " None,\n",
       " None,\n",
       " 'criteo-syncframe-pbt',\n",
       " 'gemius_hcconn_1653847395497_63196973',\n",
       " None,\n",
       " '9144a111ea58852',\n",
       " '9276ca58a3b953e8']"
      ]
     },
     "execution_count": 50,
     "metadata": {},
     "output_type": "execute_result"
    }
   ],
   "source": [
    "list(i.get(\"id\") for i in html.find_all(\"iframe\"))"
   ]
  },
  {
   "cell_type": "code",
   "execution_count": 41,
   "id": "f8a6ab48",
   "metadata": {},
   "outputs": [],
   "source": [
    "SCROLL_PAUSE_TIME = 2 \n",
    "# Get scroll height\n",
    "last_height = fox.execute_script(\"return document.body.scrollHeight\")\n",
    "\n",
    "while True:\n",
    "    # Scroll down to bottom\n",
    "    fox.execute_script(\"window.scrollTo(0, document.body.scrollHeight);\")\n",
    "\n",
    "    # Wait to load page\n",
    "    time.sleep(SCROLL_PAUSE_TIME)\n",
    "\n",
    "    # Calculate new scroll height and compare with last scroll height\n",
    "    new_height = fox.execute_script(\"return document.body.scrollHeight\")\n",
    "    if new_height == last_height:\n",
    "        break\n",
    "    last_height = new_height"
   ]
  },
  {
   "cell_type": "code",
   "execution_count": 49,
   "id": "2a04b6e3",
   "metadata": {},
   "outputs": [],
   "source": [
    "SCROLL_HEIGHT = 1000\n",
    "SCROLL_PAUSE_TIME = 2 \n",
    "\n",
    "for timer in range(0, 20):\n",
    "    fox.execute_script(\"window.scrollTo(0, \"+str(SCROLL_HEIGHT)+\")\")\n",
    "    SCROLL_HEIGHT += 1000  \n",
    "    time.sleep(SCROLL_PAUSE_TIME)"
   ]
  },
  {
   "cell_type": "code",
   "execution_count": 50,
   "id": "a234c896",
   "metadata": {
    "scrolled": false
   },
   "outputs": [
    {
     "name": "stderr",
     "output_type": "stream",
     "text": [
      "/var/folders/st/1wj362gj7s7453bxl43k38780000gn/T/ipykernel_12291/34575999.py:1: DeprecationWarning: find_elements_by_tag_name is deprecated. Please use find_elements(by=By.TAG_NAME, value=name) instead\n",
      "  iframes = fox.find_elements_by_tag_name('iframe')\n"
     ]
    },
    {
     "data": {
      "text/plain": [
       "13"
      ]
     },
     "execution_count": 50,
     "metadata": {},
     "output_type": "execute_result"
    }
   ],
   "source": [
    "iframes = fox.find_elements_by_tag_name('iframe')\n",
    "len(iframes)"
   ]
  },
  {
   "cell_type": "code",
   "execution_count": 23,
   "id": "3cf57f10",
   "metadata": {},
   "outputs": [],
   "source": [
    "#fox.find_element_by_css_selector(\"#qc-cmp2-ui .qc-cmp2-summary-buttons button\").click()"
   ]
  },
  {
   "cell_type": "code",
   "execution_count": 63,
   "id": "64377056",
   "metadata": {},
   "outputs": [],
   "source": [
    "fox.quit()"
   ]
  },
  {
   "cell_type": "code",
   "execution_count": 60,
   "id": "afaa6054",
   "metadata": {},
   "outputs": [],
   "source": [
    "#elems = fox.find_elements(By.TAG_NAME, 'button')"
   ]
  },
  {
   "cell_type": "code",
   "execution_count": 14,
   "id": "4d175fd8",
   "metadata": {},
   "outputs": [
    {
     "name": "stderr",
     "output_type": "stream",
     "text": [
      "/var/folders/st/1wj362gj7s7453bxl43k38780000gn/T/ipykernel_9083/3196645008.py:1: DeprecationWarning: find_elements_by_tag_name is deprecated. Please use find_elements(by=By.TAG_NAME, value=name) instead\n",
      "  iframes = fox.find_elements_by_tag_name('iframe')\n"
     ]
    }
   ],
   "source": [
    "iframes = fox.find_elements_by_tag_name('iframe')"
   ]
  },
  {
   "cell_type": "code",
   "execution_count": 16,
   "id": "253f9b5a",
   "metadata": {},
   "outputs": [],
   "source": [
    "iframe = iframes[0]\n",
    "fox.switch_to.frame(iframe)"
   ]
  },
  {
   "cell_type": "code",
   "execution_count": 41,
   "id": "0edb99d4",
   "metadata": {},
   "outputs": [
    {
     "data": {
      "text/plain": [
       "<bound method WebElement.get_dom_attribute of <selenium.webdriver.remote.webelement.WebElement (session=\"7e4c6342-eb7d-4107-b4f3-3fa49390f383\", element=\"f7070913-de48-4f02-9eb1-b39abe9817e6\")>>"
      ]
     },
     "execution_count": 41,
     "metadata": {},
     "output_type": "execute_result"
    }
   ],
   "source": [
    "_id.get_dom_attribute"
   ]
  },
  {
   "cell_type": "code",
   "execution_count": 2,
   "id": "9c6d5a60",
   "metadata": {},
   "outputs": [],
   "source": [
    "video = Video(src=\"https://s1.adform.net/Banners/Elements/Files/2050865/11254835.mp4?bv=0&amp;ADFAssetID=11254835\", name=\"test.mp4\")"
   ]
  },
  {
   "cell_type": "code",
   "execution_count": 3,
   "id": "4d419ae0",
   "metadata": {},
   "outputs": [
    {
     "name": "stderr",
     "output_type": "stream",
     "text": [
      "  0%|                                                                                                                                                                          | 0.00/2.20M [00:00<?, ?iB/s]\n",
      "  7%|████████████▏                                                                                                                                                      | 164k/2.20M [00:00<00:03, 617kiB/s]\n",
      " 21%|█████████████████████████████████▊                                                                                                                                | 459k/2.20M [00:00<00:01, 1.28MiB/s]\n",
      " 28%|█████████████████████████████████████████████▌                                                                                                                     | 614k/2.20M [00:00<00:02, 693kiB/s]\n",
      " 41%|██████████████████████████████████████████████████████████████████▍                                                                                               | 901k/2.20M [00:00<00:01, 1.04MiB/s]\n",
      " 48%|█████████████████████████████████████████████████████████████████████████████▋                                                                                    | 1.05M/2.20M [00:01<00:01, 666kiB/s]\n",
      " 61%|███████████████████████████████████████████████████████████████████████████████████████████████████                                                               | 1.34M/2.20M [00:01<00:00, 984kiB/s]\n",
      " 70%|█████████████████████████████████████████████████████████████████████████████████████████████████████████████████▌                                                | 1.54M/2.20M [00:01<00:00, 748kiB/s]\n",
      " 91%|██████████████████████████████████████████████████████████████████████████████████████████████████████████████████████████████████████████████████▍              | 2.00M/2.20M [00:02<00:00, 1.26MiB/s]\n",
      "2146it [00:02, 1037.09it/s]\u001b[A\n",
      "100%|█████████████████████████████████████████████████████████████████████████████████████████████████████████████████████████████████████████████████████████████████| 2.20M/2.20M [00:02<00:00, 1.06MiB/s]\n"
     ]
    }
   ],
   "source": [
    "download_video(video)"
   ]
  },
  {
   "cell_type": "code",
   "execution_count": null,
   "id": "8aac9e0b",
   "metadata": {},
   "outputs": [],
   "source": []
  },
  {
   "cell_type": "code",
   "execution_count": 57,
   "id": "57f74fd4",
   "metadata": {},
   "outputs": [],
   "source": [
    "html = BeautifulSoup(fox.page_source)"
   ]
  },
  {
   "cell_type": "code",
   "execution_count": 60,
   "id": "33491f1f",
   "metadata": {},
   "outputs": [
    {
     "data": {
      "text/plain": [
       "[<video autoplay=\"\" class=\"vjs-tech\" id=\"tv2-player-1653819302419_html5_api\" muted=\"muted\" playsinline=\"playsinline\" poster=\"https://cdn-free-vod-new.tv2i.dk/mpx/186373j1jr_640x360_2037552195929.png?w=640&amp;h=360&amp;q=60&amp;auto=format\" preload=\"none\" tabindex=\"-1\"></video>,\n",
       " <video playsinline=\"true\" src=\"https://redirector.gvt1.com/videoplayback/id/d3bbdb157a42d2a2/itag/109/source/dclk_video_ads/requiressl/yes/acao/yes/mime/video%2Fmp4/ctier/L/ip/0.0.0.0/ipbits/0/expire/1653840904/sparams/ip,ipbits,expire,id,itag,source,requiressl,acao,mime,ctier/signature/9C3D758BD70C05375E4628C5B53F0E6F849437D4.6335A063FBED8E35ED99FCB078F8766EE5F588E1/key/ck2/file/file.mp4\" style=\"background-color: rgb(0, 0, 0); position: absolute; width: 100%; height: 100%; left: 0px; top: 0px;\" title=\"Advertisement\" webkit-playsinline=\"true\"></video>,\n",
       " <video playsinline=\"true\" style=\"background-color: rgb(0, 0, 0); position: absolute; width: 100%; height: 100%; left: 0px; top: 0px;\" title=\"Advertisement\" webkit-playsinline=\"true\"></video>]"
      ]
     },
     "execution_count": 60,
     "metadata": {},
     "output_type": "execute_result"
    }
   ],
   "source": [
    "html.find_all(\"video\")"
   ]
  },
  {
   "cell_type": "code",
   "execution_count": 63,
   "id": "6154dbbd",
   "metadata": {},
   "outputs": [
    {
     "data": {
      "text/plain": [
       "[<video autoplay=\"\" class=\"vjs-tech\" id=\"tv2-player-1653819302419_html5_api\" muted=\"muted\" playsinline=\"playsinline\" poster=\"https://cdn-free-vod-new.tv2i.dk/mpx/186373j1jr_640x360_2037552195929.png?w=640&amp;h=360&amp;q=60&amp;auto=format\" preload=\"none\" tabindex=\"-1\"></video>,\n",
       " <video playsinline=\"true\" src=\"https://redirector.gvt1.com/videoplayback/id/d3bbdb157a42d2a2/itag/109/source/dclk_video_ads/requiressl/yes/acao/yes/mime/video%2Fmp4/ctier/L/ip/0.0.0.0/ipbits/0/expire/1653840904/sparams/ip,ipbits,expire,id,itag,source,requiressl,acao,mime,ctier/signature/9C3D758BD70C05375E4628C5B53F0E6F849437D4.6335A063FBED8E35ED99FCB078F8766EE5F588E1/key/ck2/file/file.mp4\" style=\"background-color: rgb(0, 0, 0); position: absolute; width: 100%; height: 100%; left: 0px; top: 0px;\" title=\"Advertisement\" webkit-playsinline=\"true\"></video>,\n",
       " <video playsinline=\"true\" style=\"background-color: rgb(0, 0, 0); position: absolute; width: 100%; height: 100%; left: 0px; top: 0px;\" title=\"Advertisement\" webkit-playsinline=\"true\"></video>]"
      ]
     },
     "execution_count": 63,
     "metadata": {},
     "output_type": "execute_result"
    }
   ],
   "source": [
    "html.find_all(\"video\")"
   ]
  },
  {
   "cell_type": "code",
   "execution_count": 37,
   "id": "bae91a44",
   "metadata": {},
   "outputs": [
    {
     "name": "stderr",
     "output_type": "stream",
     "text": [
      "/var/folders/st/1wj362gj7s7453bxl43k38780000gn/T/ipykernel_12291/3196645008.py:1: DeprecationWarning: find_elements_by_tag_name is deprecated. Please use find_elements(by=By.TAG_NAME, value=name) instead\n",
      "  iframes = fox.find_elements_by_tag_name('iframe')\n"
     ]
    }
   ],
   "source": [
    "iframes = fox.find_elements_by_tag_name('iframe')"
   ]
  },
  {
   "cell_type": "code",
   "execution_count": 39,
   "id": "8b258b0a",
   "metadata": {},
   "outputs": [
    {
     "name": "stdout",
     "output_type": "stream",
     "text": [
      "1\n",
      "Message: [Exception... \"Failure\"  nsresult: \"0x80004005 (NS_ERROR_FAILURE)\"  location: \"JS frame :: chrome://remote/content/marionette/capture.js :: capture.canvas :: line 143\"  data: no]\n",
      "Stacktrace:\n",
      "capture.canvas@chrome://remote/content/marionette/capture.js:143:62\n",
      "takeScreenshot@chrome://remote/content/marionette/actors/MarionetteCommandsParent.jsm:256:32\n",
      "\n"
     ]
    },
    {
     "name": "stderr",
     "output_type": "stream",
     "text": [
      "/usr/local/lib/python3.9/site-packages/selenium/webdriver/remote/webelement.py:690: UserWarning: name used for saved screenshot does not match file type. It should end with a `.png` extension\n",
      "  warnings.warn(\"name used for saved screenshot does not match file \"\n"
     ]
    }
   ],
   "source": [
    "print(len(iframes))\n",
    "for idx, iframe in enumerate(iframes):\n",
    "    try:\n",
    "        iframe.screenshot(str(idx) + \".jpeg\")\n",
    "    except Exception as e:\n",
    "        print(e)"
   ]
  },
  {
   "cell_type": "code",
   "execution_count": 25,
   "id": "cf63ffe2",
   "metadata": {},
   "outputs": [
    {
     "name": "stderr",
     "output_type": "stream",
     "text": [
      "/var/folders/st/1wj362gj7s7453bxl43k38780000gn/T/ipykernel_2801/2859000034.py:1: DeprecationWarning: find_element_by_tag_name is deprecated. Please use find_element(by=By.TAG_NAME, value=name) instead\n",
      "  fox.switch_to.frame(fox.find_element_by_tag_name(\"iframe\"))\n"
     ]
    }
   ],
   "source": [
    "fox.switch_to.frame(fox.find_element_by_tag_name(\"iframe\"))"
   ]
  },
  {
   "cell_type": "code",
   "execution_count": 27,
   "id": "a44d01e9",
   "metadata": {},
   "outputs": [],
   "source": [
    "fox.switch_to.default_content()"
   ]
  },
  {
   "cell_type": "markdown",
   "id": "9c024386",
   "metadata": {},
   "source": [
    "### Screenshot"
   ]
  },
  {
   "cell_type": "code",
   "execution_count": 38,
   "id": "1bf644b8",
   "metadata": {},
   "outputs": [
    {
     "data": {
      "text/plain": [
       "True"
      ]
     },
     "execution_count": 38,
     "metadata": {},
     "output_type": "execute_result"
    }
   ],
   "source": [
    "from selenium import webdriver\n",
    "from PIL import Image\n",
    "from io import StringIO, BytesIO\n",
    "import base64\n",
    "\n",
    "fox = webdriver.Firefox(options=options)\n",
    "#fox = webdriver.Firefox()\n",
    "fox.get('http://tv2.dk/')\n",
    "sleep(3)\n",
    "fox.find_element(by=By.XPATH, value=\"/html/body/div[1]/div/div/div/div[2]/div/button[3]\").click()\n",
    "\n",
    "element = fox.find_element(by=By.CLASS_NAME, value='tc_icon__play') # find part of the page you want image of\n",
    "location = element.location\n",
    "size = element.size\n",
    "element.screenshot('screenshot.png')"
   ]
  },
  {
   "cell_type": "code",
   "execution_count": 40,
   "id": "55b0ab01",
   "metadata": {},
   "outputs": [],
   "source": [
    "element = fox.find_element(by=By.CLASS_NAME, value='tc_ad')"
   ]
  },
  {
   "cell_type": "code",
   "execution_count": 41,
   "id": "72d6f89a",
   "metadata": {},
   "outputs": [
    {
     "data": {
      "text/plain": [
       "True"
      ]
     },
     "execution_count": 41,
     "metadata": {},
     "output_type": "execute_result"
    }
   ],
   "source": [
    "element.screenshot(\"screenshot.png\")"
   ]
  },
  {
   "cell_type": "code",
   "execution_count": 114,
   "id": "b63c7020",
   "metadata": {},
   "outputs": [],
   "source": [
    "from selenium.webdriver.common.keys import Keys\n",
    "html = fox.find_element(by=By.TAG_NAME, value=\"html\")\n",
    "html.send_keys(Keys.END)"
   ]
  },
  {
   "cell_type": "code",
   "execution_count": null,
   "id": "62424ae5",
   "metadata": {},
   "outputs": [],
   "source": []
  },
  {
   "cell_type": "markdown",
   "id": "f9df094c",
   "metadata": {},
   "source": [
    "## Scroll indefinitely"
   ]
  },
  {
   "cell_type": "markdown",
   "id": "5bb2c613",
   "metadata": {},
   "source": [
    "https://stackoverflow.com/questions/20986631/how-can-i-scroll-a-web-page-using-selenium-webdriver-in-python"
   ]
  },
  {
   "cell_type": "markdown",
   "id": "6697aefe",
   "metadata": {},
   "source": [
    "For Facebook & LinkedIn stuff"
   ]
  },
  {
   "cell_type": "code",
   "execution_count": null,
   "id": "703edccb",
   "metadata": {},
   "outputs": [],
   "source": [
    "SCROLL_PAUSE_TIME = 0.5\n",
    "\n",
    "# Get scroll height\n",
    "last_height = driver.execute_script(\"return document.body.scrollHeight\")\n",
    "\n",
    "while True:\n",
    "    # Scroll down to bottom\n",
    "    driver.execute_script(\"window.scrollTo(0, document.body.scrollHeight);\")\n",
    "\n",
    "    # Wait to load page\n",
    "    time.sleep(SCROLL_PAUSE_TIME)\n",
    "\n",
    "    # Calculate new scroll height and compare with last scroll height\n",
    "    new_height = driver.execute_script(\"return document.body.scrollHeight\")\n",
    "    if new_height == last_height:\n",
    "        break\n",
    "    last_height = new_height"
   ]
  },
  {
   "cell_type": "code",
   "execution_count": null,
   "id": "07936b0f",
   "metadata": {},
   "outputs": [],
   "source": []
  }
 ],
 "metadata": {
  "kernelspec": {
   "display_name": "Python 3 (ipykernel)",
   "language": "python",
   "name": "python3"
  },
  "language_info": {
   "codemirror_mode": {
    "name": "ipython",
    "version": 3
   },
   "file_extension": ".py",
   "mimetype": "text/x-python",
   "name": "python",
   "nbconvert_exporter": "python",
   "pygments_lexer": "ipython3",
   "version": "3.9.12"
  }
 },
 "nbformat": 4,
 "nbformat_minor": 5
}
